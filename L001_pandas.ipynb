{
 "cells": [
  {
   "cell_type": "code",
   "execution_count": 2,
   "metadata": {},
   "outputs": [],
   "source": [
    "import pandas as pd"
   ]
  },
  {
   "cell_type": "markdown",
   "metadata": {},
   "source": [
    "### Skapa series"
   ]
  },
  {
   "cell_type": "code",
   "execution_count": 25,
   "metadata": {},
   "outputs": [
    {
     "data": {
      "text/plain": [
       "0    1\n",
       "dtype: int64"
      ]
     },
     "execution_count": 25,
     "metadata": {},
     "output_type": "execute_result"
    }
   ],
   "source": [
    "# Skapa en Series (en av de två vanligaste datastrunkturerna i Pandas genom att skicka in i pd.Series en list till exempel.). \n",
    "# \"dtype:\" står för vad det är för datatyp och om det är strängar eller blandat så kommer det att stå \"object\"\n",
    "#Är en lista med objekt där varje objekt har en etikett. \n",
    "\n",
    "my_numbers = pd.Series([1,2,3])\n",
    "my_numbers *2\n",
    "\n",
    "type(my_numbers[0])\n",
    "\n",
    "#Kolla om alla ibject i serien uppfyller ett villkor, retunerar true eller false (bygger på numpy så räcker att skria så.)\n",
    "my_numbers <= 7\n",
    "\n",
    "\n",
    "\n",
    "#Pandas bygger på Numpy så du kan göra en matematisk operation med allt i serien om det är nummer. \n",
    "\n",
    "#eller\n",
    "\n",
    "#skriver bara ut det indexen som jag har skrivit True på. Samt skriver då bara ut True eller False och inte värdet.\n",
    "my_numbers[[True, False,True]]\n",
    "\n",
    "\n",
    "#Skriver ut värdena som är True på. \n",
    "my_numbers[my_numbers <= 1]"
   ]
  },
  {
   "cell_type": "code",
   "execution_count": 20,
   "metadata": {},
   "outputs": [
    {
     "data": {
      "text/plain": [
       "Jennifers hund    dog\n",
       "Tobias hund       cat\n",
       "dtype: object"
      ]
     },
     "execution_count": 20,
     "metadata": {},
     "output_type": "execute_result"
    }
   ],
   "source": [
    "#Man kan skräddarsy index genom att skriva kommatecken \"index=\" och därefter en lista med vad indexen ska vara döpta till.\n",
    "\n",
    "\n",
    "#Listorna måste vara lika långa för att det ska funger. \n",
    "\n",
    "\n",
    "animals = pd.Series([\"dog\", \"cat\"], index= [\"Jennifers hund\", \"Tobias hund\"])\n",
    "\n",
    "animals.apply(str.lower)\n",
    "\n",
    "animals\n",
    "\n",
    "\n",
    "\n",
    "\n"
   ]
  },
  {
   "cell_type": "code",
   "execution_count": 26,
   "metadata": {},
   "outputs": [],
   "source": [
    "#Skapa en dataframe. \n",
    "#Använd tex en dictionary med ett key-value pair för varje kolumn. och en lista i varje value.\n",
    "#En dataframe kan beskrivas som en tabell med frukter och varje kolumn är egenskaper som frukten har. "
   ]
  },
  {
   "cell_type": "code",
   "execution_count": 42,
   "metadata": {},
   "outputs": [
    {
     "data": {
      "text/plain": [
       "\"{'Jennifer': ['27'], 'Mamma': [40]}\""
      ]
     },
     "execution_count": 42,
     "metadata": {},
     "output_type": "execute_result"
    }
   ],
   "source": [
    "#För att skapa en dataframe som är den andra av två strukturer i Pandas så kan du göra en dictionary och valuet är en lista.\n",
    "#Sedan skapar du en variabel som tex heter df (dataFrame) och så skrivs kommandot (alltid först bibliotek Pandas) pd.DataFrame(namnet på dicten)\n",
    "\n",
    "friends = {\n",
    "    \"Jennifer\": [\"27\"],\n",
    "    \"Mamma\" : [40]\n",
    "\n",
    "}\n",
    "\n",
    "df = pd.DataFrame(friends)\n",
    "\n",
    "df[df[\"Mamma\"] == 40]\n",
    "\n",
    "str(friends)\n"
   ]
  },
  {
   "cell_type": "code",
   "execution_count": 36,
   "metadata": {},
   "outputs": [
    {
     "data": {
      "text/plain": [
       "['sång']"
      ]
     },
     "execution_count": 36,
     "metadata": {},
     "output_type": "execute_result"
    }
   ],
   "source": [
    "#Skapa en series\n",
    "\n",
    "colours = pd.Series([\"Green\", \"pink\"])\n",
    "colours\n",
    "\n",
    "\n",
    "#skapa en dataf\n",
    "\n",
    "presents = {\n",
    "    \"mamma\" : [\"sång\"],\n",
    "    \"Benjamin\": [\"mobil\"],\n",
    "    \"Adrian\" : [\"fotboll\"]\n",
    "\n",
    "}\n",
    "\n",
    "df = pd.DataFrame(presents)\n",
    "df\n",
    "\n",
    "presents[\"mamma\"]\n"
   ]
  }
 ],
 "metadata": {
  "kernelspec": {
   "display_name": "Databehandling-Jennifer-Olausson-WuxumOR_",
   "language": "python",
   "name": "python3"
  },
  "language_info": {
   "codemirror_mode": {
    "name": "ipython",
    "version": 3
   },
   "file_extension": ".py",
   "mimetype": "text/x-python",
   "name": "python",
   "nbconvert_exporter": "python",
   "pygments_lexer": "ipython3",
   "version": "3.11.5"
  }
 },
 "nbformat": 4,
 "nbformat_minor": 2
}
