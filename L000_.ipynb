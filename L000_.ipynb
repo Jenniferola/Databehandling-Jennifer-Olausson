{
 "cells": [
  {
   "cell_type": "markdown",
   "metadata": {},
   "source": [
    "### Lektion anonymisering (torsdag 16/11)"
   ]
  },
  {
   "cell_type": "code",
   "execution_count": 12,
   "metadata": {},
   "outputs": [],
   "source": [
    "import hashlib as h1 "
   ]
  },
  {
   "cell_type": "markdown",
   "metadata": {},
   "source": [
    "### Övrigt\n",
    "- ASCII (äldre standard) - tecken. Räckte inte till (typ 127)\n",
    "UNICODE\n",
    "- ASCII kan endast nedan koda enklare tecken. "
   ]
  },
  {
   "cell_type": "markdown",
   "metadata": {},
   "source": [
    "### Anonymization with hash\n",
    "-en liten förändring i indatat ger en stor förändring i hashen. \n",
    "- there are many types of hash functions (algoritms). Example MD5, SHA-128, SHA256.\n",
    "- even a small change in the input gives a totally diffrent output string. \n",
    "- Not possible to reverse the process. \n",
    "- kan se om datat ändrat, en liten ändring ger en annan hashkod."
   ]
  },
  {
   "cell_type": "code",
   "execution_count": 14,
   "metadata": {},
   "outputs": [
    {
     "ename": "TypeError",
     "evalue": "object supporting the buffer API required",
     "output_type": "error",
     "traceback": [
      "\u001b[1;31m---------------------------------------------------------------------------\u001b[0m",
      "\u001b[1;31mTypeError\u001b[0m                                 Traceback (most recent call last)",
      "\u001b[1;32mc:\\Users\\Jennifer\\Desktop\\Skola\\Github\\Github\\Databehandling\\Databehandling-Jennifer-Olausson\\L000_.ipynb Cell 5\u001b[0m line \u001b[0;36m5\n\u001b[0;32m      <a href='vscode-notebook-cell:/c%3A/Users/Jennifer/Desktop/Skola/Github/Github/Databehandling/Databehandling-Jennifer-Olausson/L000_.ipynb#W3sZmlsZQ%3D%3D?line=0'>1</a>\u001b[0m text \u001b[39m=\u001b[39m \u001b[39m\"\u001b[39m\u001b[39mabcd\u001b[39m\u001b[39m\"\u001b[39m\u001b[39m.\u001b[39mencode(\u001b[39m'\u001b[39m\u001b[39mutf-8\u001b[39m\u001b[39m'\u001b[39m)\n\u001b[0;32m      <a href='vscode-notebook-cell:/c%3A/Users/Jennifer/Desktop/Skola/Github/Github/Databehandling/Databehandling-Jennifer-Olausson/L000_.ipynb#W3sZmlsZQ%3D%3D?line=2'>3</a>\u001b[0m h1\u001b[39m.\u001b[39msha256(text)\u001b[39m.\u001b[39mhexdigest()\n\u001b[1;32m----> <a href='vscode-notebook-cell:/c%3A/Users/Jennifer/Desktop/Skola/Github/Github/Databehandling/Databehandling-Jennifer-Olausson/L000_.ipynb#W3sZmlsZQ%3D%3D?line=4'>5</a>\u001b[0m \u001b[39mprint\u001b[39m(\u001b[39mf\u001b[39m\u001b[39m\"\u001b[39m\u001b[39m{\u001b[39;00mh1\u001b[39m.\u001b[39;49msha256(\u001b[39m'\u001b[39;49m\u001b[39mHello world\u001b[39;49m\u001b[39m'\u001b[39;49m\u001b[39m.\u001b[39;49mencode)\u001b[39m}\u001b[39;00m\u001b[39m\"\u001b[39m)\n",
      "\u001b[1;31mTypeError\u001b[0m: object supporting the buffer API required"
     ]
    }
   ],
   "source": [
    "text = \"abcd\".encode('utf-8')\n",
    "\n",
    "h1.sha256(text).hexdigest()\n",
    "\n",
    "print(f\"{h1.sha256('Hello world'.encode)}\")"
   ]
  },
  {
   "cell_type": "markdown",
   "metadata": {},
   "source": [
    "#### Riktigt \n",
    "\n",
    "\n",
    "- my_data[\"first_name].apply(lambda name: h1)... (se föreläsning)\n",
    "name_hash = \n",
    "\n",
    "- om man chansar på ett namn kan man få ut hashen (men kan inte reverse hashen)\n",
    "- kan skriva något som den översätter till hash. Sedan göra en query för att se om samma hash finns. \n",
    "- namn är rätt att lista ut. \n",
    "- hashat kan generera att man räknar ut de lättaste lösenorden. \n",
    "- appendar salt (x antal tecken) + lösenordet vilket ger ett hashvärde för de två tidigare nämnda sammantaget. \n",
    "- använd inte hash om få kända värden. \n",
    "- saker som kan vara svåra att lösa idag, fort i framtiden. \n",
    "\n",
    "- Film \"The anonymisation problem- computerwhile. "
   ]
  }
 ],
 "metadata": {
  "kernelspec": {
   "display_name": "Databehandling-Jennifer-Olausson-WuxumOR_",
   "language": "python",
   "name": "python3"
  },
  "language_info": {
   "codemirror_mode": {
    "name": "ipython",
    "version": 3
   },
   "file_extension": ".py",
   "mimetype": "text/x-python",
   "name": "python",
   "nbconvert_exporter": "python",
   "pygments_lexer": "ipython3",
   "version": "3.11.5"
  }
 },
 "nbformat": 4,
 "nbformat_minor": 2
}
