{
 "cells": [
  {
   "cell_type": "markdown",
   "metadata": {},
   "source": [
    "- Gå in på hemsidan för ett bibliotek för att läsa på -getting started. Samt API (applicationProgrammingInterface). Lista för alla funktioner. \n",
    "- kolla user guide och tutorials. \n",
    "- dataframes: lagra data i tabellform. \n",
    "- series: en kolumn i en dataframe. \n",
    "- dataframe: flera series.  \n",
    "- panda bygger på numpy. Numpy kan utföra beräkningar på alla i en lista tillexempel. \n",
    "- kolla upp numpy. "
   ]
  },
  {
   "cell_type": "markdown",
   "metadata": {},
   "source": []
  },
  {
   "cell_type": "code",
   "execution_count": 2,
   "metadata": {},
   "outputs": [
    {
     "data": {
      "text/plain": [
       "5       apple\n",
       "6        pear\n",
       "sju    orange\n",
       "8       melon\n",
       "9        kiwi\n",
       "dtype: object"
      ]
     },
     "execution_count": 2,
     "metadata": {},
     "output_type": "execute_result"
    }
   ],
   "source": [
    "#Importera pandas. \n",
    "\n",
    "import pandas as pd\n",
    "\n",
    "#använda pd.Series och sedan inom parantes en lista. Längst ner står datatypen. Alla blir av samma datatyp. Vanligast att intr blanda. \n",
    "#Object = string or mixed. \n",
    "\n",
    "#Man kan välja vilka index nummer som ska användas. \n",
    "#Vanligast att inte använda precist index. \n",
    "\n",
    "#Man kan välja \n",
    "\n",
    "fruits = pd.Series([\"apple\", \"pear\", \"orange\", \"melon\", \"kiwi\"], index =[5,6,\"sju\",8,9])\n",
    "fruits\n",
    "\n",
    "# numbers = pd.Series([1,2,3])\n",
    "# numbers * 2 + 1\n",
    "\n",
    "#fruits[5]\n",
    "\n",
    "fruits\n",
    "\n"
   ]
  },
  {
   "cell_type": "code",
   "execution_count": 10,
   "metadata": {},
   "outputs": [
    {
     "data": {
      "text/plain": [
       "0     apple\n",
       "1      pear\n",
       "2    orange\n",
       "3     melon\n",
       "4      kiwi\n",
       "dtype: object"
      ]
     },
     "execution_count": 10,
     "metadata": {},
     "output_type": "execute_result"
    }
   ],
   "source": [
    "\"\"\"Använder formel eller apply eller det ovan. Inte som python så sätt.\"\"\"\n",
    "\n",
    "fruits.apply(str.lower)"
   ]
  },
  {
   "cell_type": "code",
   "execution_count": 18,
   "metadata": {},
   "outputs": [
    {
     "data": {
      "text/plain": [
       "5    apple\n",
       "6     pear\n",
       "9     kiwi\n",
       "dtype: object"
      ]
     },
     "execution_count": 18,
     "metadata": {},
     "output_type": "execute_result"
    }
   ],
   "source": [
    "fruits[[True,True,False,False,True]]"
   ]
  },
  {
   "cell_type": "markdown",
   "metadata": {},
   "source": [
    "# Dataframe 2d labeles data structure. "
   ]
  },
  {
   "cell_type": "code",
   "execution_count": 32,
   "metadata": {},
   "outputs": [
    {
     "data": {
      "text/html": [
       "<div>\n",
       "<style scoped>\n",
       "    .dataframe tbody tr th:only-of-type {\n",
       "        vertical-align: middle;\n",
       "    }\n",
       "\n",
       "    .dataframe tbody tr th {\n",
       "        vertical-align: top;\n",
       "    }\n",
       "\n",
       "    .dataframe thead th {\n",
       "        text-align: right;\n",
       "    }\n",
       "</style>\n",
       "<table border=\"1\" class=\"dataframe\">\n",
       "  <thead>\n",
       "    <tr style=\"text-align: right;\">\n",
       "      <th></th>\n",
       "      <th>Person</th>\n",
       "      <th>Age</th>\n",
       "    </tr>\n",
       "  </thead>\n",
       "  <tbody>\n",
       "  </tbody>\n",
       "</table>\n",
       "</div>"
      ],
      "text/plain": [
       "Empty DataFrame\n",
       "Columns: [Person, Age]\n",
       "Index: []"
      ]
     },
     "execution_count": 32,
     "metadata": {},
     "output_type": "execute_result"
    }
   ],
   "source": [
    "#skapa snygga tabeller genom =  ny variabel = pd.DataFrame(dictionaryn) . Skapar panda objekt. \n",
    "\n",
    "data = {\n",
    "    \"Person\":[\"Anders\", \"Tomas\", \"Mario\"],\n",
    "    \"Age\": [42,46,36]\n",
    "}\n",
    "\n",
    "#Listorna måste vara lika långa för att det ska funger. \n",
    "\n",
    "#Visa i snygg tabell. \n",
    "df = pd.DataFrame(data)\n",
    "\n",
    "#Visa upp endast en kolumn. \n",
    "\n",
    "#Retunerar en ny serie med ny summa men det ändrar inte originalet. \n",
    "df[\"Age\"] + 2\n",
    "df\n",
    "\n",
    "#/n ny rad\n",
    "\n",
    "#Uppdatera standard listan. \n",
    "df [\"Age\"] = df[\"Age\"] + 2\n",
    "\n",
    "df [df[\"Age\"] >= 50] "
   ]
  },
  {
   "cell_type": "markdown",
   "metadata": {},
   "source": [
    "## seaborn ##\n",
    "- används som alternativ mot matplotlib."
   ]
  },
  {
   "cell_type": "code",
   "execution_count": 7,
   "metadata": {},
   "outputs": [
    {
     "data": {
      "text/html": [
       "<div>\n",
       "<style scoped>\n",
       "    .dataframe tbody tr th:only-of-type {\n",
       "        vertical-align: middle;\n",
       "    }\n",
       "\n",
       "    .dataframe tbody tr th {\n",
       "        vertical-align: top;\n",
       "    }\n",
       "\n",
       "    .dataframe thead th {\n",
       "        text-align: right;\n",
       "    }\n",
       "</style>\n",
       "<table border=\"1\" class=\"dataframe\">\n",
       "  <thead>\n",
       "    <tr style=\"text-align: right;\">\n",
       "      <th></th>\n",
       "      <th>total_bill</th>\n",
       "      <th>tip</th>\n",
       "      <th>sex</th>\n",
       "      <th>smoker</th>\n",
       "      <th>day</th>\n",
       "      <th>time</th>\n",
       "      <th>size</th>\n",
       "    </tr>\n",
       "  </thead>\n",
       "  <tbody>\n",
       "    <tr>\n",
       "      <th>0</th>\n",
       "      <td>16.99</td>\n",
       "      <td>1.01</td>\n",
       "      <td>Female</td>\n",
       "      <td>No</td>\n",
       "      <td>Sun</td>\n",
       "      <td>Dinner</td>\n",
       "      <td>2</td>\n",
       "    </tr>\n",
       "    <tr>\n",
       "      <th>1</th>\n",
       "      <td>10.34</td>\n",
       "      <td>1.66</td>\n",
       "      <td>Male</td>\n",
       "      <td>No</td>\n",
       "      <td>Sun</td>\n",
       "      <td>Dinner</td>\n",
       "      <td>3</td>\n",
       "    </tr>\n",
       "    <tr>\n",
       "      <th>2</th>\n",
       "      <td>21.01</td>\n",
       "      <td>3.50</td>\n",
       "      <td>Male</td>\n",
       "      <td>No</td>\n",
       "      <td>Sun</td>\n",
       "      <td>Dinner</td>\n",
       "      <td>3</td>\n",
       "    </tr>\n",
       "    <tr>\n",
       "      <th>3</th>\n",
       "      <td>23.68</td>\n",
       "      <td>3.31</td>\n",
       "      <td>Male</td>\n",
       "      <td>No</td>\n",
       "      <td>Sun</td>\n",
       "      <td>Dinner</td>\n",
       "      <td>2</td>\n",
       "    </tr>\n",
       "    <tr>\n",
       "      <th>4</th>\n",
       "      <td>24.59</td>\n",
       "      <td>3.61</td>\n",
       "      <td>Female</td>\n",
       "      <td>No</td>\n",
       "      <td>Sun</td>\n",
       "      <td>Dinner</td>\n",
       "      <td>4</td>\n",
       "    </tr>\n",
       "  </tbody>\n",
       "</table>\n",
       "</div>"
      ],
      "text/plain": [
       "   total_bill   tip     sex smoker  day    time  size\n",
       "0       16.99  1.01  Female     No  Sun  Dinner     2\n",
       "1       10.34  1.66    Male     No  Sun  Dinner     3\n",
       "2       21.01  3.50    Male     No  Sun  Dinner     3\n",
       "3       23.68  3.31    Male     No  Sun  Dinner     2\n",
       "4       24.59  3.61  Female     No  Sun  Dinner     4"
      ]
     },
     "execution_count": 7,
     "metadata": {},
     "output_type": "execute_result"
    }
   ],
   "source": [
    "import seaborn as sns\n",
    "\n",
    "#Plot på slutet ger olika grafer. \n",
    "\n",
    "tips = sns.load_dataset(\"tips\")\n",
    "tips\n",
    "\n",
    "#Ta ut givet antal av första rader. 5 default.\n",
    "#.tail() de sista. \n",
    "tips.head()"
   ]
  },
  {
   "cell_type": "code",
   "execution_count": 32,
   "metadata": {},
   "outputs": [
    {
     "data": {
      "text/plain": [
       "<seaborn.axisgrid.FacetGrid at 0x196af56f110>"
      ]
     },
     "execution_count": 32,
     "metadata": {},
     "output_type": "execute_result"
    },
    {
     "data": {
      "image/png": "[encoded data removed]",
      "text/plain": [
       "<Figure size 401x1200 with 4 Axes>"
      ]
     },
     "metadata": {},
     "output_type": "display_data"
    }
   ],
   "source": [
    "# hue färgkodar samt sätter på en label. \n",
    "# style olika sorters markers.\n",
    "# kind är linjer. \"scatter\" för prickar eller \"line\" för linjer.\n",
    "# hue size ger olika färgskalor men om det endast är ja eller nej blir det motsatta färger. size ger olika storlekar på punkterna. \n",
    "# Välja de alternativ som visar tydlighet.\n",
    "#sizes en tuble med en range med start till stop, så sprids det ut. Eller en lista med exakta värden. \n",
    "#row = \"day\" delar upp diagram utifrån kolumnen \"day\"\n",
    "#col visar brevid varandra. \n",
    "#col_wrap 2 ger två columner och sedan ny rad. \n",
    "# om jag vill plotta något som är antingen eller. \n",
    "\n",
    "sns.relplot(x=\"total_bill\", y=\"tip\", size=\"size\", style=\"smoker\", sizes= (20,100), height =3, row =\"day\", data=tips)"
   ]
  },
  {
   "cell_type": "markdown",
   "metadata": {},
   "source": [
    "-relplot gör scatter (punkter) eller (linjer)\n",
    "- "
   ]
  },
  {
   "cell_type": "markdown",
   "metadata": {},
   "source": [
    "# Displot #"
   ]
  },
  {
   "cell_type": "markdown",
   "metadata": {},
   "source": [
    "- plottar diagram"
   ]
  },
  {
   "cell_type": "code",
   "execution_count": 3,
   "metadata": {},
   "outputs": [],
   "source": [
    "#sns.displot(x = \"total_bill\", data = tips)"
   ]
  },
  {
   "cell_type": "markdown",
   "metadata": {},
   "source": [
    "Läs på på seaborns hemsida.\n",
    "\n",
    "-relplot\n",
    "-displot\n",
    "-catplot\n",
    "\n",
    "två första + 3 visualisation. Kolla i readme efter någon data, se video. "
   ]
  },
  {
   "cell_type": "code",
   "execution_count": 1,
   "metadata": {},
   "outputs": [
    {
     "data": {
      "text/plain": [
       "{1, 2, 3, 4, 5}"
      ]
     },
     "execution_count": 1,
     "metadata": {},
     "output_type": "execute_result"
    }
   ],
   "source": [
    "my_tuple = (2,2,3)\n",
    "\n",
    "my_set = {3,1,2,3,4,5,5}\n",
    "\n",
    "my_set"
   ]
  },
  {
   "cell_type": "code",
   "execution_count": 2,
   "metadata": {},
   "outputs": [
    {
     "name": "stdout",
     "output_type": "stream",
     "text": [
      "Namn Hobbys\n",
      "0 Jens Skogen\n",
      "1 Jennifer Fika\n",
      "2 Marita Hundar\n"
     ]
    }
   ],
   "source": [
    "namn = [\"Jens\", \"Jennifer\", \"Marita\"]\n",
    "hobbys = [\"Skogen\", \"Fika\", \"Hundar\"]\n",
    "\n",
    "for i in range(0,3):\n",
    "    if i == 0:\n",
    "        print(f\"Namn Hobbys\")\n",
    "\n",
    "    print(f\"{i} {namn[i]} {hobbys[i]}\")"
   ]
  },
  {
   "cell_type": "code",
   "execution_count": 6,
   "metadata": {},
   "outputs": [
    {
     "data": {
      "text/html": [
       "<div>\n",
       "<style scoped>\n",
       "    .dataframe tbody tr th:only-of-type {\n",
       "        vertical-align: middle;\n",
       "    }\n",
       "\n",
       "    .dataframe tbody tr th {\n",
       "        vertical-align: top;\n",
       "    }\n",
       "\n",
       "    .dataframe thead th {\n",
       "        text-align: right;\n",
       "    }\n",
       "</style>\n",
       "<table border=\"1\" class=\"dataframe\">\n",
       "  <thead>\n",
       "    <tr style=\"text-align: right;\">\n",
       "      <th></th>\n",
       "      <th>Person</th>\n",
       "      <th>Hobbys</th>\n",
       "    </tr>\n",
       "  </thead>\n",
       "  <tbody>\n",
       "    <tr>\n",
       "      <th>0</th>\n",
       "      <td>Jens</td>\n",
       "      <td>Skogen</td>\n",
       "    </tr>\n",
       "    <tr>\n",
       "      <th>1</th>\n",
       "      <td>Jennifer</td>\n",
       "      <td>Fika</td>\n",
       "    </tr>\n",
       "    <tr>\n",
       "      <th>2</th>\n",
       "      <td>Marita</td>\n",
       "      <td>Hundar</td>\n",
       "    </tr>\n",
       "  </tbody>\n",
       "</table>\n",
       "</div>"
      ],
      "text/plain": [
       "     Person  Hobbys\n",
       "0      Jens  Skogen\n",
       "1  Jennifer    Fika\n",
       "2    Marita  Hundar"
      ]
     },
     "execution_count": 6,
     "metadata": {},
     "output_type": "execute_result"
    }
   ],
   "source": [
    "min_tabell = {\n",
    "    \"Namn\":[\"Jens\", \"Jennifer\", \"Marita\"],\n",
    "    \"Hobbys\": [\"Skogen\",\"Fika\",\"Hundar\"]\n",
    "}\n",
    "\n",
    "visa_tabell= pd.DataFrame(min_tabell)\n",
    "\n",
    "visa_tabell\n"
   ]
  }
 ],
 "metadata": {
  "kernelspec": {
   "display_name": "Python 3",
   "language": "python",
   "name": "python3"
  },
  "language_info": {
   "codemirror_mode": {
    "name": "ipython",
    "version": 3
   },
   "file_extension": ".py",
   "mimetype": "text/x-python",
   "name": "python",
   "nbconvert_exporter": "python",
   "pygments_lexer": "ipython3",
   "version": "3.11.5"
  }
 },
 "nbformat": 4,
 "nbformat_minor": 2
}
