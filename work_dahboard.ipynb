{
 "cells": [
  {
   "cell_type": "code",
   "execution_count": 2,
   "metadata": {},
   "outputs": [
    {
     "ename": "ModuleNotFoundError",
     "evalue": "No module named 'dash_bootstrap_templates'",
     "output_type": "error",
     "traceback": [
      "\u001b[1;31m---------------------------------------------------------------------------\u001b[0m",
      "\u001b[1;31mModuleNotFoundError\u001b[0m                       Traceback (most recent call last)",
      "\u001b[1;32mc:\\Users\\Jennifer\\Desktop\\Skola\\Github\\Github\\Databehandling\\Databehandling-Jennifer-Olausson\\work_dahboard.ipynb Cell 1\u001b[0m line \u001b[0;36m2\n\u001b[0;32m      <a href='vscode-notebook-cell:/c%3A/Users/Jennifer/Desktop/Skola/Github/Github/Databehandling/Databehandling-Jennifer-Olausson/work_dahboard.ipynb#W0sZmlsZQ%3D%3D?line=0'>1</a>\u001b[0m \u001b[39mfrom\u001b[39;00m \u001b[39mdash\u001b[39;00m \u001b[39mimport\u001b[39;00m Dash, html, dcc, callback, Output, Input, State\n\u001b[1;32m----> <a href='vscode-notebook-cell:/c%3A/Users/Jennifer/Desktop/Skola/Github/Github/Databehandling/Databehandling-Jennifer-Olausson/work_dahboard.ipynb#W0sZmlsZQ%3D%3D?line=1'>2</a>\u001b[0m \u001b[39mfrom\u001b[39;00m \u001b[39mdash_bootstrap_templates\u001b[39;00m \u001b[39mimport\u001b[39;00m load_figure_template\n\u001b[0;32m      <a href='vscode-notebook-cell:/c%3A/Users/Jennifer/Desktop/Skola/Github/Github/Databehandling/Databehandling-Jennifer-Olausson/work_dahboard.ipynb#W0sZmlsZQ%3D%3D?line=2'>3</a>\u001b[0m \u001b[39m# import dash_bootstrap_components as dbc\u001b[39;00m\n\u001b[0;32m      <a href='vscode-notebook-cell:/c%3A/Users/Jennifer/Desktop/Skola/Github/Github/Databehandling/Databehandling-Jennifer-Olausson/work_dahboard.ipynb#W0sZmlsZQ%3D%3D?line=3'>4</a>\u001b[0m \u001b[39m# from dash import dash_table\u001b[39;00m\n\u001b[0;32m      <a href='vscode-notebook-cell:/c%3A/Users/Jennifer/Desktop/Skola/Github/Github/Databehandling/Databehandling-Jennifer-Olausson/work_dahboard.ipynb#W0sZmlsZQ%3D%3D?line=4'>5</a>\u001b[0m \u001b[39m# import plotly_express as px\u001b[39;00m\n\u001b[0;32m      <a href='vscode-notebook-cell:/c%3A/Users/Jennifer/Desktop/Skola/Github/Github/Databehandling/Databehandling-Jennifer-Olausson/work_dahboard.ipynb#W0sZmlsZQ%3D%3D?line=5'>6</a>\u001b[0m \u001b[39m# import pandas as pd\u001b[39;00m\n",
      "\u001b[1;31mModuleNotFoundError\u001b[0m: No module named 'dash_bootstrap_templates'"
     ]
    }
   ],
   "source": [
    "from dash import Dash, html, dcc, callback, Output, Input, State\n",
    "from dash_bootstrap_templates import load_figure_template\n",
    "# import dash_bootstrap_components as dbc\n",
    "# from dash import dash_table\n",
    "# import plotly_express as px\n",
    "# import pandas as pd"
   ]
  },
  {
   "cell_type": "code",
   "execution_count": null,
   "metadata": {},
   "outputs": [],
   "source": [
    "stocks = pd.read_csv(\"../Data/stocks.csv\", parse_dates=[\"Date\"], index_col=\"Date\")\n",
    "stocks.head(2)"
   ]
  },
  {
   "cell_type": "code",
   "execution_count": null,
   "metadata": {},
   "outputs": [],
   "source": [
    "load_figure_template(\"flatly\")\n",
    "\n",
    "app = Dash(\n",
    "    __name__, \n",
    "    external_stylesheets=[dbc.themes.FLATLY],\n",
    "    meta_tags=[{\"name\": \"viewport\", \"content\": \"width=device-width, initial-scale=1\"}]\n",
    ")\n",
    "\n",
    "app.layout = dbc.Container([\n",
    "    dbc.Row([\n",
    "        dbc.Col([\n",
    "            html.H1(\"Stock Market Dashboard\", className='text-center text-primary mx-3'),\n",
    "            html.Br(),\n",
    "            dcc.DatePickerRange(id='date_picker', className='mx-auto mb-4')\n",
    "        ], width=12, style={'text-align': 'center'})\n",
    "    ]),\n",
    "\n",
    "    dbc.Row([\n",
    "        dbc.Col([\n",
    "            dcc.Dropdown(\n",
    "                id=\"single_dropdown\", multi=False, searchable=False, className='mb-2', value='MSFT',\n",
    "                options=[stock for stock in stocks[\"Symbols\"].unique()],\n",
    "                style={'color': '#333'}\n",
    "            ),\n",
    "            dcc.Graph(id=\"volume_graph\", config={\"staticPlot\": True},\n",
    "                figure={})\n",
    "        ], xs=12, sm=11, md=10, lg=5),\n",
    "\n",
    "        dbc.Col([\n",
    "            dcc.Dropdown(\n",
    "                id=\"multi_dropdown\", multi=True, searchable=False, className='mb-2', value=['MSFT', 'AAPL'],\n",
    "                options=[stock for stock in stocks[\"Symbols\"].unique()],\n",
    "                style={'color': '#333'}\n",
    "            ),\n",
    "            dcc.Graph(id=\"closing_graph\", config={\"staticPlot\": True},\n",
    "                figure={})\n",
    "        ], xs=12, sm=11, md=10, lg=5)\n",
    "    ], justify=\"evenly\"),\n",
    "\n",
    "    dbc.Row([\n",
    "        dbc.Col([\n",
    "            html.Br(),\n",
    "            html.H2('MSFT', id='data_label'),\n",
    "            dash_table.DataTable(id='data_table', page_size=15)\n",
    "        ], width=10)\n",
    "    ], justify='center'),\n",
    "\n",
    "\n",
    "], fluid=True)\n",
    "\n",
    "@callback(\n",
    "    Output(\"volume_graph\", \"figure\"),\n",
    "    Output(\"data_table\", \"data\"),\n",
    "    Output(\"data_label\", \"children\"),\n",
    "    Input(\"date_picker\", \"start_date\"),\n",
    "    Input(\"date_picker\", \"end_date\"),\n",
    "    Input(\"single_dropdown\", \"value\"),\n",
    "    #State(\"data_label\", \"children\")\n",
    ")\n",
    "def single_dropdown_changed(start, end, symbol): #, label):\n",
    "    df = stocks.query(\"Symbols==@symbol\").loc[start:end]\n",
    "    fig = px.line(df, x=df.index, y=\"Volume\")\n",
    "    data = df.reset_index().drop(columns=[\"Symbols\"]).to_dict('records')\n",
    "    return fig, data, symbol #, f\"{label}, {symbol}\"\n",
    "\n",
    "@callback(\n",
    "    Output(\"closing_graph\", \"figure\"),\n",
    "    Input(\"date_picker\", \"start_date\"),\n",
    "    Input(\"date_picker\", \"end_date\"),\n",
    "    Input(\"multi_dropdown\", \"value\")\n",
    ")\n",
    "def update_closing_graph(start, end, symbols):\n",
    "    if symbols is None: symbols = []\n",
    "    df = stocks[stocks[\"Symbols\"].isin(symbols)].loc[start:end]\n",
    "    return px.line(df, x=df.index, y=\"Close\", color=\"Symbols\")\n",
    "\n",
    "\n",
    "app.run(debug=True, jupyter_mode='external')"
   ]
  }
 ],
 "metadata": {
  "kernelspec": {
   "display_name": "Databehandling-Jennifer-Olausson-WuxumOR_",
   "language": "python",
   "name": "python3"
  },
  "language_info": {
   "codemirror_mode": {
    "name": "ipython",
    "version": 3
   },
   "file_extension": ".py",
   "mimetype": "text/x-python",
   "name": "python",
   "nbconvert_exporter": "python",
   "pygments_lexer": "ipython3",
   "version": "3.11.5"
  }
 },
 "nbformat": 4,
 "nbformat_minor": 2
}
